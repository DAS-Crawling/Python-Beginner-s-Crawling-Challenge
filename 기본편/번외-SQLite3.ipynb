{
  "nbformat": 4,
  "nbformat_minor": 0,
  "metadata": {
    "colab": {
      "provenance": []
    },
    "kernelspec": {
      "name": "python3",
      "display_name": "Python 3"
    },
    "language_info": {
      "name": "python"
    }
  },
  "cells": [
    {
      "cell_type": "markdown",
      "source": [
        "# [3] SQLite3 사용 방법"
      ],
      "metadata": {
        "id": "OOPmvn12d2O4"
      }
    },
    {
      "cell_type": "markdown",
      "source": [
        "## [3-1] SQLite3 연결 및 간단 사용법"
      ],
      "metadata": {
        "id": "fWLN5dtFeGq4"
      }
    },
    {
      "cell_type": "code",
      "source": [
        "import sqlite3"
      ],
      "metadata": {
        "id": "Ls8y4LhleVhh"
      },
      "execution_count": null,
      "outputs": []
    },
    {
      "cell_type": "code",
      "source": [
        "conn = sqlite3.connect('sqlite_test.db')"
      ],
      "metadata": {
        "id": "kJW7hPX5eYOq"
      },
      "execution_count": null,
      "outputs": []
    },
    {
      "cell_type": "code",
      "source": [
        "cursor = conn.cursor()"
      ],
      "metadata": {
        "id": "nGEPp743eaHg"
      },
      "execution_count": null,
      "outputs": []
    },
    {
      "cell_type": "code",
      "source": [
        "cursor.execute('SELECT * FROM table_name')"
      ],
      "metadata": {
        "id": "azyGXgOEecgH"
      },
      "execution_count": null,
      "outputs": []
    },
    {
      "cell_type": "code",
      "source": [
        "result = cursor.fetchall()"
      ],
      "metadata": {
        "id": "3FrkEgiUeezE"
      },
      "execution_count": null,
      "outputs": []
    },
    {
      "cell_type": "code",
      "source": [
        "conn.close()"
      ],
      "metadata": {
        "id": "YbZGvG1Xefb2"
      },
      "execution_count": null,
      "outputs": []
    },
    {
      "cell_type": "markdown",
      "source": [
        "## [3-2] SQLite3 사용 예시"
      ],
      "metadata": {
        "id": "QnMsDNKYeqtK"
      }
    },
    {
      "cell_type": "code",
      "source": [
        "import sqlite3\n",
        "\n",
        "data = {\n",
        "    'id': [1, 2, 3, 4, 5],\n",
        "    'name': ['John', 'Alice', 'Bob', 'Kane', 'Jack'],\n",
        "    'age': [25, 30, 35, 40, 45]\n",
        "}\n",
        "\n",
        "# 데이터베이스에 연결\n",
        "conn = sqlite3.connect('database.db')\n",
        "\n",
        "# 커서 생성\n",
        "cursor = conn.cursor()\n",
        "\n",
        "# people 테이블 생성\n",
        "cursor.execute('CREATE TABLE people (id INTEGER, name TEXT, age INTEGER)')\n",
        "\n",
        "# 데이터 삽입\n",
        "for i in range(len(data['id'])):\n",
        "    cursor.execute('INSERT INTO people VALUES (?, ?, ?)',\n",
        "                   (data['id'][i], data['name'][i], data['age'][i]))\n",
        "\n",
        "# 커밋(변경 사항 저장)\n",
        "conn.commit()\n",
        "\n",
        "# 연결 닫기\n",
        "conn.close()"
      ],
      "metadata": {
        "id": "5RxFdyL9UnWz"
      },
      "execution_count": 1,
      "outputs": []
    },
    {
      "cell_type": "code",
      "source": [
        "# 데이터베이스에 연결\n",
        "conn = sqlite3.connect('database.db')\n",
        "\n",
        "# 커서 생성\n",
        "cursor = conn.cursor()\n",
        "\n",
        "# 데이터 조회\n",
        "cursor.execute('SELECT * FROM people')\n",
        "result = cursor.fetchall()\n",
        "\n",
        "# 조회 결과 출력\n",
        "for row in result:\n",
        "    print(row)\n",
        "\n",
        "# 연결 닫기\n",
        "conn.close()"
      ],
      "metadata": {
        "colab": {
          "base_uri": "https://localhost:8080/"
        },
        "id": "YqtKJbsRWO-D",
        "outputId": "bcf59f96-8176-4b9b-8846-bc61e2e4129c"
      },
      "execution_count": 2,
      "outputs": [
        {
          "output_type": "stream",
          "name": "stdout",
          "text": [
            "(1, 'John', 25)\n",
            "(2, 'Alice', 30)\n",
            "(3, 'Bob', 35)\n",
            "(4, 'Kane', 40)\n",
            "(5, 'Jack', 45)\n"
          ]
        }
      ]
    },
    {
      "cell_type": "code",
      "source": [
        "# 데이터베이스에 연결\n",
        "conn = sqlite3.connect('database.db')\n",
        "\n",
        "# 커서 생성\n",
        "cursor = conn.cursor()\n",
        "\n",
        "# 데이터 조회\n",
        "cursor.execute('SELECT name FROM people')\n",
        "result = cursor.fetchall()\n",
        "\n",
        "# 조회 결과 출력\n",
        "for row in result:\n",
        "    print(row)\n",
        "\n",
        "# 연결 닫기\n",
        "conn.close()"
      ],
      "metadata": {
        "id": "5ZXNcxi1X2DN",
        "colab": {
          "base_uri": "https://localhost:8080/"
        },
        "outputId": "951971b3-e596-4eee-8a74-bcdc95301e7c"
      },
      "execution_count": 3,
      "outputs": [
        {
          "output_type": "stream",
          "name": "stdout",
          "text": [
            "('John',)\n",
            "('Alice',)\n",
            "('Bob',)\n",
            "('Kane',)\n",
            "('Jack',)\n"
          ]
        }
      ]
    }
  ]
}