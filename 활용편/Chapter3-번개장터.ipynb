{
 "cells": [
  {
   "cell_type": "markdown",
   "metadata": {},
   "source": [
    "# 2.5 Galaxy Tab S6 크롤링"
   ]
  },
  {
   "cell_type": "markdown",
   "metadata": {},
   "source": [
    "## 2.5.1 크롤링할 페이지 접속"
   ]
  },
  {
   "cell_type": "code",
   "execution_count": null,
   "metadata": {},
   "outputs": [],
   "source": [
    "from selenium import webdriver\n",
    "from selenium.webdriver.common.by import By\n",
    "from selenium.webdriver.common.keys import Keys\n",
    "import time"
   ]
  },
  {
   "cell_type": "code",
   "execution_count": 56,
   "metadata": {},
   "outputs": [
    {
     "name": "stdout",
     "output_type": "stream",
     "text": [
      "현재 URL : https://m.bunjang.co.kr/\n",
      "웹페이지 제목 : 번개장터\n"
     ]
    }
   ],
   "source": [
    "url = 'https://m.bunjang.co.kr/'\n",
    "\n",
    "driver = webdriver.Chrome()\n",
    "\n",
    "driver.get(url)\n",
    "print(f'현재 URL : {driver.current_url}')\n",
    "print(f'웹페이지 제목 : {driver.title}')"
   ]
  },
  {
   "cell_type": "code",
   "execution_count": 57,
   "metadata": {},
   "outputs": [
    {
     "name": "stdout",
     "output_type": "stream",
     "text": [
      "검색하고자 하는 상품명을 입력하세요: 갤럭시 탭 s6\n"
     ]
    }
   ],
   "source": [
    "# 검색창의 위치를 XPath를 이용해 변수에 저장\n",
    "search_box = driver.find_element(By.XPATH, '//*[@id=\"root\"]/div/div/div[2]/div[1]/div[1]/div[1]/div[1]/input')\n",
    "\n",
    "# 입력시에 핵심 키워드를 ' '로 구분하여 입력. 자세한 설명은 2.6.3에서 참고\n",
    "item_name = input('검색하고자 하는 상품명을 입력하세요: ')"
   ]
  },
  {
   "cell_type": "code",
   "execution_count": 58,
   "metadata": {},
   "outputs": [],
   "source": [
    "# search_box 초기화를 위해 search_box에 있는 text 전체 선택\n",
    "search_box.click();\n",
    "search_box.send_keys(Keys.CONTROL + 'A');\n",
    "\n",
    "# 입력한 상품 검색\n",
    "search_box.send_keys(item_name)\n",
    "search_box.send_keys(Keys.RETURN)"
   ]
  },
  {
   "cell_type": "code",
   "execution_count": 59,
   "metadata": {},
   "outputs": [
    {
     "name": "stdout",
     "output_type": "stream",
     "text": [
      "1. 태블릿\n",
      "2. 케이스/보호필름/액세서리\n",
      "3. 스마트폰\n",
      "4. 케이블/충전기/주변기기\n",
      "검색하고자 하는 카테고리의 번호를 입력하세요: 1\n"
     ]
    }
   ],
   "source": [
    "# 카테고리 리스트의 위치를 변수에 저장\n",
    "categories = driver.find_elements(By.XPATH, '//*[@id=\"root\"]/div/div/div[4]/div/div[1]/div/div[2]/a/div[2]')\n",
    "\n",
    "# 카테고리들의 번호와 내용 출력\n",
    "for num, c in enumerate(categories):\n",
    "    print(f'{num+1}. {c.text}')\n",
    "\n",
    "category_selected = int(input('검색하고자 하는 카테고리의 번호를 입력하세요: '))"
   ]
  },
  {
   "cell_type": "code",
   "execution_count": 60,
   "metadata": {},
   "outputs": [],
   "source": [
    "# 선택한 카테고리의 XPath를 변수에 저장\n",
    "category_path = '//*[@id=\"root\"]/div/div/div[4]/div/div[1]/div/div[2]/a'+'['+str(category_selected)+']'\n",
    "\n",
    "# 선택한 카테고리 클릭\n",
    "search_button = driver.find_element(By.XPATH, category_path)\n",
    "search_button.click()"
   ]
  },
  {
   "cell_type": "code",
   "execution_count": 61,
   "metadata": {},
   "outputs": [],
   "source": [
    "# 최신순 클릭\n",
    "newest = driver.find_element(By.XPATH, '//*[@id=\"root\"]/div/div/div[4]/div/div[3]/div/div[2]/a[2]')\n",
    "newest.click()"
   ]
  },
  {
   "cell_type": "markdown",
   "metadata": {},
   "source": [
    "## 2.5.2 상품 데이터 크롤링"
   ]
  },
  {
   "cell_type": "code",
   "execution_count": 67,
   "metadata": {},
   "outputs": [],
   "source": [
    "import pandas as pd\n",
    "\n",
    "# 크롤링한 데이터를 저장할 DataFrame\n",
    "df = pd.DataFrame(columns=['pid', 'title', 'price', 'upload_time', 'place', 'inspection', 'delivery_fee', 'pay', 'href'])\n",
    "\n",
    "# 크롤링 종료 조건을 확인하기 위한 flag 변수\n",
    "crawling_fin_flag = 0"
   ]
  },
  {
   "cell_type": "code",
   "execution_count": 68,
   "metadata": {},
   "outputs": [
    {
     "name": "stdout",
     "output_type": "stream",
     "text": [
      "1 page 96개 (총 96개)\n",
      "2 page 78개 (총 174개)\n",
      "3 page 67개 (총 241개)\n",
      "4 page 65개 (총 306개)\n",
      "5 page 11개 (총 317개)\n",
      "Crawling Finish\n"
     ]
    }
   ],
   "source": [
    "# 검색 결과 페이지 수만큼 반복 (최대 10페이지까지)\n",
    "for i in range(10):\n",
    "    \n",
    "    product_list = driver.find_elements(By.XPATH, '//*[@id=\"root\"]/div/div/div[4]/div/div[4]/div/div')\n",
    "    \n",
    "    \n",
    "    ##### 페이지 별 갯수 확인 코드\n",
    "    start_len = len(df)\n",
    "    ############################\n",
    "    \n",
    "    for data in product_list:\n",
    "        \n",
    "        '''크롤링 종료 조건'''\n",
    "        # '판매완료'인 상품 체크\n",
    "        try:\n",
    "            if data.find_element(By.XPATH, 'a/div[1]/div[2]/div[1]/img').get_attribute('alt') == '판매 완료':\n",
    "                crawling_fin_flag = 1\n",
    "                break\n",
    "        except:\n",
    "            pass\n",
    "        \n",
    "        \n",
    "        '''크롤링 예외 조건'''\n",
    "        # 예외조건1 - 예약중\n",
    "        try:\n",
    "            if data.find_element(By.XPATH, 'a/div[1]/div[2]/div[1]/img').get_attribute('alt') == '예약중':\n",
    "                continue\n",
    "        except:\n",
    "            pass\n",
    "        \n",
    "        # 예외조건2 - AD 상품\n",
    "        text_list = data.text.split('\\n')\n",
    "        \n",
    "        if text_list[-2] == 'AD':\n",
    "            continue\n",
    "\n",
    "\n",
    "        '''DataFrame에 저장'''\n",
    "        # data-pid\n",
    "        pid = data.find_element(By.XPATH, 'a').get_attribute('data-pid')\n",
    "\n",
    "        # href\n",
    "        href = data.find_element(By.XPATH, 'a').get_attribute('href')\n",
    "        \n",
    "        \n",
    "        # 번개페이 가능 여부\n",
    "        try:\n",
    "            result = data.find_element(By.CLASS_NAME, 'styled__IconBadge-sc-3zkh6z-2.iDmRbz')\n",
    "            pay = 1\n",
    "        except:\n",
    "            pay = 0\n",
    "        \n",
    "        \n",
    "        # 게시글 제목, 상품 가격, 게시글 업로드 시간, 거래 장소\n",
    "        title = text_list[-4]\n",
    "        price = text_list[-3]\n",
    "        upload_time = text_list[-2]\n",
    "        place = text_list[-1]\n",
    "        \n",
    "        # 검수 가능 여부\n",
    "        if '검수가능' in text_list:\n",
    "            inspection = 1\n",
    "        else:\n",
    "            inspection = 0\n",
    "\n",
    "        # 배송비 포함 여부\n",
    "        if '배송비포함' in text_list:\n",
    "            delivery_fee = 1\n",
    "        else:\n",
    "            delivery_fee = 0\n",
    "\n",
    "\n",
    "        # 데이터프레임에 저장\n",
    "        df.loc[len(df)] = [pid, title, price, upload_time, place, inspection, delivery_fee, pay, href]\n",
    "            \n",
    "    ##### 페이지 별 갯수 확인 코드\n",
    "    print(f'{i+1} page {len(df) - start_len}개 (총 {len(df)}개)')\n",
    "    ############################\n",
    "    \n",
    "    \n",
    "    # 크롤링 종료 조건\n",
    "    if crawling_fin_flag:\n",
    "        print('Crawling Finish')\n",
    "        break\n",
    "    \n",
    "    # 다음 페이지 버튼 클릭\n",
    "    page_button = driver.find_element(By.XPATH, '//*[@id=\"root\"]/div/div/div[4]/div/div[5]/div/a['+str(i+3)+']')\n",
    "    page_button.click()\n",
    "    \n",
    "    time.sleep(2)"
   ]
  },
  {
   "cell_type": "code",
   "execution_count": 69,
   "metadata": {},
   "outputs": [],
   "source": [
    "# webdriver 종료\n",
    "driver.close()"
   ]
  },
  {
   "cell_type": "code",
   "execution_count": 70,
   "metadata": {},
   "outputs": [
    {
     "data": {
      "text/html": [
       "<div>\n",
       "<style scoped>\n",
       "    .dataframe tbody tr th:only-of-type {\n",
       "        vertical-align: middle;\n",
       "    }\n",
       "\n",
       "    .dataframe tbody tr th {\n",
       "        vertical-align: top;\n",
       "    }\n",
       "\n",
       "    .dataframe thead th {\n",
       "        text-align: right;\n",
       "    }\n",
       "</style>\n",
       "<table border=\"1\" class=\"dataframe\">\n",
       "  <thead>\n",
       "    <tr style=\"text-align: right;\">\n",
       "      <th></th>\n",
       "      <th>pid</th>\n",
       "      <th>title</th>\n",
       "      <th>price</th>\n",
       "      <th>upload_time</th>\n",
       "      <th>place</th>\n",
       "      <th>inspection</th>\n",
       "      <th>delivery_fee</th>\n",
       "      <th>pay</th>\n",
       "      <th>href</th>\n",
       "    </tr>\n",
       "  </thead>\n",
       "  <tbody>\n",
       "    <tr>\n",
       "      <th>0</th>\n",
       "      <td>229402912</td>\n",
       "      <td>갤럭시탭 s6 lite 64gb wifi</td>\n",
       "      <td>190,000</td>\n",
       "      <td>1분 전</td>\n",
       "      <td>전국</td>\n",
       "      <td>0</td>\n",
       "      <td>1</td>\n",
       "      <td>1</td>\n",
       "      <td>https://m.bunjang.co.kr/products/229402912?q=%...</td>\n",
       "    </tr>\n",
       "    <tr>\n",
       "      <th>1</th>\n",
       "      <td>229135328</td>\n",
       "      <td>갤럭시탭s6lite 64 wife</td>\n",
       "      <td>250,000</td>\n",
       "      <td>1시간 전</td>\n",
       "      <td>경기도 안산시 상록구 반월동</td>\n",
       "      <td>0</td>\n",
       "      <td>1</td>\n",
       "      <td>1</td>\n",
       "      <td>https://m.bunjang.co.kr/products/229135328?q=%...</td>\n",
       "    </tr>\n",
       "    <tr>\n",
       "      <th>2</th>\n",
       "      <td>229428258</td>\n",
       "      <td>갤럭시탭 s6 라이트</td>\n",
       "      <td>500,000</td>\n",
       "      <td>2시간 전</td>\n",
       "      <td>경기도 남양주시 오남읍</td>\n",
       "      <td>0</td>\n",
       "      <td>1</td>\n",
       "      <td>1</td>\n",
       "      <td>https://m.bunjang.co.kr/products/229428258?q=%...</td>\n",
       "    </tr>\n",
       "    <tr>\n",
       "      <th>3</th>\n",
       "      <td>229329594</td>\n",
       "      <td>갤럭시탭S6 lite SM-P610 wifi 64G 판매해요.</td>\n",
       "      <td>230,000</td>\n",
       "      <td>1시간 전</td>\n",
       "      <td>전국</td>\n",
       "      <td>0</td>\n",
       "      <td>0</td>\n",
       "      <td>1</td>\n",
       "      <td>https://m.bunjang.co.kr/products/229329594?q=%...</td>\n",
       "    </tr>\n",
       "    <tr>\n",
       "      <th>4</th>\n",
       "      <td>227587188</td>\n",
       "      <td>갤럭시탭s6 lite 64g 셀룰러 팝니다</td>\n",
       "      <td>230,000</td>\n",
       "      <td>1시간 전</td>\n",
       "      <td>전국</td>\n",
       "      <td>0</td>\n",
       "      <td>1</td>\n",
       "      <td>1</td>\n",
       "      <td>https://m.bunjang.co.kr/products/227587188?q=%...</td>\n",
       "    </tr>\n",
       "    <tr>\n",
       "      <th>...</th>\n",
       "      <td>...</td>\n",
       "      <td>...</td>\n",
       "      <td>...</td>\n",
       "      <td>...</td>\n",
       "      <td>...</td>\n",
       "      <td>...</td>\n",
       "      <td>...</td>\n",
       "      <td>...</td>\n",
       "      <td>...</td>\n",
       "    </tr>\n",
       "    <tr>\n",
       "      <th>312</th>\n",
       "      <td>226465498</td>\n",
       "      <td>탭S6라이트 그레이 64기가 와이파이 (LGU+ TV프리3)</td>\n",
       "      <td>310,000</td>\n",
       "      <td>1달 전</td>\n",
       "      <td>경상북도 경주시 황오동</td>\n",
       "      <td>0</td>\n",
       "      <td>1</td>\n",
       "      <td>1</td>\n",
       "      <td>https://m.bunjang.co.kr/products/226465498?q=%...</td>\n",
       "    </tr>\n",
       "    <tr>\n",
       "      <th>313</th>\n",
       "      <td>226157857</td>\n",
       "      <td>탭S6라이트 그레이 64기가 와이파이 (LGU+ TV프리3)</td>\n",
       "      <td>310,000</td>\n",
       "      <td>1달 전</td>\n",
       "      <td>경상북도 경주시 황오동</td>\n",
       "      <td>0</td>\n",
       "      <td>1</td>\n",
       "      <td>1</td>\n",
       "      <td>https://m.bunjang.co.kr/products/226157857?q=%...</td>\n",
       "    </tr>\n",
       "    <tr>\n",
       "      <th>314</th>\n",
       "      <td>223192438</td>\n",
       "      <td>탭S6라이트 그레이 64기가 와이파이 (LGU+ TV프리3)</td>\n",
       "      <td>355,000</td>\n",
       "      <td>2달 전</td>\n",
       "      <td>경상북도 경주시 황오동</td>\n",
       "      <td>0</td>\n",
       "      <td>1</td>\n",
       "      <td>1</td>\n",
       "      <td>https://m.bunjang.co.kr/products/223192438?q=%...</td>\n",
       "    </tr>\n",
       "    <tr>\n",
       "      <th>315</th>\n",
       "      <td>219594988</td>\n",
       "      <td>겔탭s6lite</td>\n",
       "      <td>380,000</td>\n",
       "      <td>3달 전</td>\n",
       "      <td>대구광역시 달서구 본리동</td>\n",
       "      <td>0</td>\n",
       "      <td>0</td>\n",
       "      <td>1</td>\n",
       "      <td>https://m.bunjang.co.kr/products/219594988?q=%...</td>\n",
       "    </tr>\n",
       "    <tr>\n",
       "      <th>316</th>\n",
       "      <td>200923784</td>\n",
       "      <td>갤럭시탭 s 6 lite wifi</td>\n",
       "      <td>320,000</td>\n",
       "      <td>9달 전</td>\n",
       "      <td>전국</td>\n",
       "      <td>0</td>\n",
       "      <td>0</td>\n",
       "      <td>1</td>\n",
       "      <td>https://m.bunjang.co.kr/products/200923784?q=%...</td>\n",
       "    </tr>\n",
       "  </tbody>\n",
       "</table>\n",
       "<p>317 rows × 9 columns</p>\n",
       "</div>"
      ],
      "text/plain": [
       "           pid                               title    price upload_time  \\\n",
       "0    229402912              갤럭시탭 s6 lite 64gb wifi  190,000        1분 전   \n",
       "1    229135328                  갤럭시탭s6lite 64 wife  250,000       1시간 전   \n",
       "2    229428258                         갤럭시탭 s6 라이트  500,000       2시간 전   \n",
       "3    229329594  갤럭시탭S6 lite SM-P610 wifi 64G 판매해요.  230,000       1시간 전   \n",
       "4    227587188             갤럭시탭s6 lite 64g 셀룰러 팝니다  230,000       1시간 전   \n",
       "..         ...                                 ...      ...         ...   \n",
       "312  226465498   탭S6라이트 그레이 64기가 와이파이 (LGU+ TV프리3)  310,000        1달 전   \n",
       "313  226157857   탭S6라이트 그레이 64기가 와이파이 (LGU+ TV프리3)  310,000        1달 전   \n",
       "314  223192438   탭S6라이트 그레이 64기가 와이파이 (LGU+ TV프리3)  355,000        2달 전   \n",
       "315  219594988                            겔탭s6lite  380,000        3달 전   \n",
       "316  200923784                  갤럭시탭 s 6 lite wifi  320,000        9달 전   \n",
       "\n",
       "               place inspection delivery_fee pay  \\\n",
       "0                 전국          0            1   1   \n",
       "1    경기도 안산시 상록구 반월동          0            1   1   \n",
       "2       경기도 남양주시 오남읍          0            1   1   \n",
       "3                 전국          0            0   1   \n",
       "4                 전국          0            1   1   \n",
       "..               ...        ...          ...  ..   \n",
       "312     경상북도 경주시 황오동          0            1   1   \n",
       "313     경상북도 경주시 황오동          0            1   1   \n",
       "314     경상북도 경주시 황오동          0            1   1   \n",
       "315    대구광역시 달서구 본리동          0            0   1   \n",
       "316               전국          0            0   1   \n",
       "\n",
       "                                                  href  \n",
       "0    https://m.bunjang.co.kr/products/229402912?q=%...  \n",
       "1    https://m.bunjang.co.kr/products/229135328?q=%...  \n",
       "2    https://m.bunjang.co.kr/products/229428258?q=%...  \n",
       "3    https://m.bunjang.co.kr/products/229329594?q=%...  \n",
       "4    https://m.bunjang.co.kr/products/227587188?q=%...  \n",
       "..                                                 ...  \n",
       "312  https://m.bunjang.co.kr/products/226465498?q=%...  \n",
       "313  https://m.bunjang.co.kr/products/226157857?q=%...  \n",
       "314  https://m.bunjang.co.kr/products/223192438?q=%...  \n",
       "315  https://m.bunjang.co.kr/products/219594988?q=%...  \n",
       "316  https://m.bunjang.co.kr/products/200923784?q=%...  \n",
       "\n",
       "[317 rows x 9 columns]"
      ]
     },
     "execution_count": 70,
     "metadata": {},
     "output_type": "execute_result"
    }
   ],
   "source": [
    "# 크롤링한 데이터 확인\n",
    "df"
   ]
  },
  {
   "cell_type": "markdown",
   "metadata": {},
   "source": [
    "** *** **"
   ]
  },
  {
   "cell_type": "markdown",
   "metadata": {},
   "source": [
    "# 2.6 데이터 전처리"
   ]
  },
  {
   "cell_type": "code",
   "execution_count": 169,
   "metadata": {},
   "outputs": [],
   "source": [
    "df_save = df.copy()"
   ]
  },
  {
   "cell_type": "code",
   "execution_count": null,
   "metadata": {},
   "outputs": [],
   "source": [
    "# 전처리 과정 중에 데이터 원본이 다시 필요한 경우 아래 코드 실행\n",
    "df = df_save.copy()"
   ]
  },
  {
   "cell_type": "markdown",
   "metadata": {},
   "source": [
    "## 2.6.1 중복 상품 제거"
   ]
  },
  {
   "cell_type": "code",
   "execution_count": 170,
   "metadata": {},
   "outputs": [
    {
     "data": {
      "text/html": [
       "<div>\n",
       "<style scoped>\n",
       "    .dataframe tbody tr th:only-of-type {\n",
       "        vertical-align: middle;\n",
       "    }\n",
       "\n",
       "    .dataframe tbody tr th {\n",
       "        vertical-align: top;\n",
       "    }\n",
       "\n",
       "    .dataframe thead th {\n",
       "        text-align: right;\n",
       "    }\n",
       "</style>\n",
       "<table border=\"1\" class=\"dataframe\">\n",
       "  <thead>\n",
       "    <tr style=\"text-align: right;\">\n",
       "      <th></th>\n",
       "      <th>pid</th>\n",
       "      <th>title</th>\n",
       "      <th>price</th>\n",
       "      <th>upload_time</th>\n",
       "      <th>place</th>\n",
       "      <th>inspection</th>\n",
       "      <th>delivery_fee</th>\n",
       "      <th>pay</th>\n",
       "      <th>href</th>\n",
       "    </tr>\n",
       "  </thead>\n",
       "  <tbody>\n",
       "    <tr>\n",
       "      <th>174</th>\n",
       "      <td>227292927</td>\n",
       "      <td>갤럭시탭s6 LTE 라이트아닙니다 상태극상 급처</td>\n",
       "      <td>310,000</td>\n",
       "      <td>3주 전</td>\n",
       "      <td>전국</td>\n",
       "      <td>0</td>\n",
       "      <td>0</td>\n",
       "      <td>0</td>\n",
       "      <td>https://m.bunjang.co.kr/products/227292927?q=%...</td>\n",
       "    </tr>\n",
       "  </tbody>\n",
       "</table>\n",
       "</div>"
      ],
      "text/plain": [
       "           pid                       title    price upload_time place  \\\n",
       "174  227292927  갤럭시탭s6 LTE 라이트아닙니다 상태극상 급처  310,000        3주 전    전국   \n",
       "\n",
       "    inspection delivery_fee pay  \\\n",
       "174          0            0   0   \n",
       "\n",
       "                                                  href  \n",
       "174  https://m.bunjang.co.kr/products/227292927?q=%...  "
      ]
     },
     "execution_count": 170,
     "metadata": {},
     "output_type": "execute_result"
    }
   ],
   "source": [
    "# 중복행 확인\n",
    "df[df.duplicated(subset=['pid'], keep='first')]"
   ]
  },
  {
   "cell_type": "code",
   "execution_count": 171,
   "metadata": {},
   "outputs": [],
   "source": [
    "# 중복행 제거\n",
    "df = df.drop_duplicates(subset=['pid'],keep='first')"
   ]
  },
  {
   "cell_type": "markdown",
   "metadata": {},
   "source": [
    "## 2.6.2 상품 속성값 변경"
   ]
  },
  {
   "cell_type": "markdown",
   "metadata": {},
   "source": [
    "#### price column 전처리"
   ]
  },
  {
   "cell_type": "code",
   "execution_count": 172,
   "metadata": {},
   "outputs": [],
   "source": [
    "for index, row in df.iterrows():\n",
    "    price_str = row.copy()['price']  # SettingWithCopyWarning 발생 방지를 위한 copy\n",
    "    if price_str == '연락요망':  # 가격이 표시되지 않은 제품 제외\n",
    "        df = df.drop(index)\n",
    "    else:\n",
    "        price_int = int(price_str.replace(',', ''))\n",
    "        df.loc[index, 'price'] = price_int"
   ]
  },
  {
   "cell_type": "code",
   "execution_count": 173,
   "metadata": {},
   "outputs": [
    {
     "data": {
      "text/plain": [
       "array([190000, 250000, 500000, 230000, 300000, 233000, 263000, 320000,\n",
       "       390000, 150000, 220000, 450000, 313000, 355000, 253000, 285000,\n",
       "       290000, 430000, 400000, 280000, 240000, 340000, 350000, 275000,\n",
       "       260000, 330000, 225000, 200000, 605000, 160000, 267000, 270000,\n",
       "       380000, 449000, 360000, 388000, 1000000, 345000, 457000, 420000,\n",
       "       288000, 210000, 480000, 414000, 337000, 600000, 30000, 153000,\n",
       "       375000, 278000, 327000, 325300, 367000, 750000, 310000, 539000,\n",
       "       1725000, 100000000, 519000, 354000, 800000, 370000, 100000, 100,\n",
       "       170000, 410000, 10000, 22222, 550000, 552000, 1000, 374000, 440000],\n",
       "      dtype=object)"
      ]
     },
     "execution_count": 173,
     "metadata": {},
     "output_type": "execute_result"
    }
   ],
   "source": [
    "df['price'].unique()"
   ]
  },
  {
   "cell_type": "markdown",
   "metadata": {},
   "source": [
    "#### upload time column 전처리"
   ]
  },
  {
   "cell_type": "code",
   "execution_count": 174,
   "metadata": {},
   "outputs": [],
   "source": [
    "from datetime import datetime, timedelta\n",
    "from dateutil.relativedelta import relativedelta\n",
    "now = datetime.now()\n",
    "\n",
    "for index, row in df.iterrows():\n",
    "    if df.loc[index, 'upload_time'][-3:] == '초 전':\n",
    "        df.loc[index, 'upload_time'] = (now - timedelta(seconds=int(df.loc[index, 'upload_time'][:-3]))).strftime('%Y-%m-%d')\n",
    "    elif df.loc[index, 'upload_time'][-3:] == '분 전':\n",
    "        df.loc[index, 'upload_time'] = (now - timedelta(minutes=int(df.loc[index, 'upload_time'][:-3]))).strftime('%Y-%m-%d')\n",
    "    elif df.loc[index, 'upload_time'][-4:] == '시간 전':\n",
    "        df.loc[index, 'upload_time'] = (now - timedelta(hours=int(df.loc[index, 'upload_time'][:-4]))).strftime('%Y-%m-%d')\n",
    "    elif df.loc[index, 'upload_time'][-3:] == '일 전':\n",
    "        df.loc[index, 'upload_time'] = (now - timedelta(days=int(df.loc[index, 'upload_time'][:-3]))).strftime('%Y-%m-%d')\n",
    "    elif df.loc[index, 'upload_time'][-3:] == '주 전':\n",
    "        df.loc[index, 'upload_time'] = (now - timedelta(weeks=int(df.loc[index, 'upload_time'][:-3]))).strftime('%Y-%m-%d')\n",
    "    elif df.loc[index, 'upload_time'][-3:] == '달 전':\n",
    "        df.loc[index, 'upload_time'] = (now - relativedelta(months=int(df.loc[index, 'upload_time'][:-3]))).strftime('%Y-%m-%d')\n",
    "    else:\n",
    "        print(df.loc[index, 'upload_time'])\n",
    "        df.loc[index, 'upload_time'] = (now - relativedelta(years=int(df.loc[index, 'upload_time'][:-3]))).strftime('%Y-%m-%d')"
   ]
  },
  {
   "cell_type": "code",
   "execution_count": 175,
   "metadata": {},
   "outputs": [
    {
     "data": {
      "text/plain": [
       "array(['2023-07-09', '2023-07-08', '2023-07-07', '2023-07-06',\n",
       "       '2023-07-05', '2023-07-04', '2023-07-03', '2023-07-02',\n",
       "       '2023-06-25', '2023-06-18', '2023-06-11', '2023-06-09',\n",
       "       '2023-05-09', '2023-04-09', '2023-03-09', '2023-02-09',\n",
       "       '2023-01-09', '2022-12-09', '2022-11-09', '2022-10-09',\n",
       "       '2022-09-09', '2022-08-09', '2022-07-09'], dtype=object)"
      ]
     },
     "execution_count": 175,
     "metadata": {},
     "output_type": "execute_result"
    }
   ],
   "source": [
    "df['upload_time'].unique()"
   ]
  },
  {
   "cell_type": "markdown",
   "metadata": {},
   "source": [
    "## 2.6.3 불필요한 상품 제거"
   ]
  },
  {
   "cell_type": "markdown",
   "metadata": {},
   "source": [
    "#### title column 전처리"
   ]
  },
  {
   "cell_type": "code",
   "execution_count": 176,
   "metadata": {},
   "outputs": [],
   "source": [
    "# '구매' 목적인 게시글의 상품 제외\n",
    "import re\n",
    "pattern = r'삽니다|구해|구합|구매|사요'\n",
    "pattern_matching_index = df[df['title'].str.contains(pattern, flags=re.IGNORECASE, regex=True)].index\n",
    "\n",
    "df = df.drop(index=pattern_matching_index)"
   ]
  },
  {
   "cell_type": "code",
   "execution_count": 177,
   "metadata": {},
   "outputs": [],
   "source": [
    "# 검색어와 관련없는 상품 제외\n",
    "item_name_list = item_name.split(' ')  # 검색어 입력시 키워드를 공백으로 구분\n",
    "\n",
    "for index, row in df.iterrows():\n",
    "    title = row['title'].replace(' ','').lower()  # 알파벳은 대소문자 구분하지 않음\n",
    "    \n",
    "    for check in item_name_list[1:]:  # '갤럭시', '겔럭시', 'Galaxy'가 많아서 '탭'과 's6'로만 확인\n",
    "        if check.lower() not in title:\n",
    "            df = df.drop(index)\n",
    "            break"
   ]
  },
  {
   "cell_type": "code",
   "execution_count": 178,
   "metadata": {},
   "outputs": [
    {
     "data": {
      "text/html": [
       "<div>\n",
       "<style scoped>\n",
       "    .dataframe tbody tr th:only-of-type {\n",
       "        vertical-align: middle;\n",
       "    }\n",
       "\n",
       "    .dataframe tbody tr th {\n",
       "        vertical-align: top;\n",
       "    }\n",
       "\n",
       "    .dataframe thead th {\n",
       "        text-align: right;\n",
       "    }\n",
       "</style>\n",
       "<table border=\"1\" class=\"dataframe\">\n",
       "  <thead>\n",
       "    <tr style=\"text-align: right;\">\n",
       "      <th></th>\n",
       "      <th>pid</th>\n",
       "      <th>title</th>\n",
       "      <th>price</th>\n",
       "      <th>upload_time</th>\n",
       "      <th>place</th>\n",
       "      <th>inspection</th>\n",
       "      <th>delivery_fee</th>\n",
       "      <th>pay</th>\n",
       "      <th>href</th>\n",
       "    </tr>\n",
       "  </thead>\n",
       "  <tbody>\n",
       "    <tr>\n",
       "      <th>0</th>\n",
       "      <td>229402912</td>\n",
       "      <td>갤럭시탭 s6 lite 64gb wifi</td>\n",
       "      <td>190000</td>\n",
       "      <td>2023-07-09</td>\n",
       "      <td>전국</td>\n",
       "      <td>0</td>\n",
       "      <td>1</td>\n",
       "      <td>1</td>\n",
       "      <td>https://m.bunjang.co.kr/products/229402912?q=%...</td>\n",
       "    </tr>\n",
       "    <tr>\n",
       "      <th>1</th>\n",
       "      <td>229135328</td>\n",
       "      <td>갤럭시탭s6lite 64 wife</td>\n",
       "      <td>250000</td>\n",
       "      <td>2023-07-09</td>\n",
       "      <td>경기도 안산시 상록구 반월동</td>\n",
       "      <td>0</td>\n",
       "      <td>1</td>\n",
       "      <td>1</td>\n",
       "      <td>https://m.bunjang.co.kr/products/229135328?q=%...</td>\n",
       "    </tr>\n",
       "    <tr>\n",
       "      <th>2</th>\n",
       "      <td>229428258</td>\n",
       "      <td>갤럭시탭 s6 라이트</td>\n",
       "      <td>500000</td>\n",
       "      <td>2023-07-09</td>\n",
       "      <td>경기도 남양주시 오남읍</td>\n",
       "      <td>0</td>\n",
       "      <td>1</td>\n",
       "      <td>1</td>\n",
       "      <td>https://m.bunjang.co.kr/products/229428258?q=%...</td>\n",
       "    </tr>\n",
       "    <tr>\n",
       "      <th>3</th>\n",
       "      <td>229329594</td>\n",
       "      <td>갤럭시탭S6 lite SM-P610 wifi 64G 판매해요.</td>\n",
       "      <td>230000</td>\n",
       "      <td>2023-07-09</td>\n",
       "      <td>전국</td>\n",
       "      <td>0</td>\n",
       "      <td>0</td>\n",
       "      <td>1</td>\n",
       "      <td>https://m.bunjang.co.kr/products/229329594?q=%...</td>\n",
       "    </tr>\n",
       "    <tr>\n",
       "      <th>4</th>\n",
       "      <td>227587188</td>\n",
       "      <td>갤럭시탭s6 lite 64g 셀룰러 팝니다</td>\n",
       "      <td>230000</td>\n",
       "      <td>2023-07-09</td>\n",
       "      <td>전국</td>\n",
       "      <td>0</td>\n",
       "      <td>1</td>\n",
       "      <td>1</td>\n",
       "      <td>https://m.bunjang.co.kr/products/227587188?q=%...</td>\n",
       "    </tr>\n",
       "    <tr>\n",
       "      <th>...</th>\n",
       "      <td>...</td>\n",
       "      <td>...</td>\n",
       "      <td>...</td>\n",
       "      <td>...</td>\n",
       "      <td>...</td>\n",
       "      <td>...</td>\n",
       "      <td>...</td>\n",
       "      <td>...</td>\n",
       "      <td>...</td>\n",
       "    </tr>\n",
       "    <tr>\n",
       "      <th>312</th>\n",
       "      <td>226465498</td>\n",
       "      <td>탭S6라이트 그레이 64기가 와이파이 (LGU+ TV프리3)</td>\n",
       "      <td>310000</td>\n",
       "      <td>2023-06-09</td>\n",
       "      <td>경상북도 경주시 황오동</td>\n",
       "      <td>0</td>\n",
       "      <td>1</td>\n",
       "      <td>1</td>\n",
       "      <td>https://m.bunjang.co.kr/products/226465498?q=%...</td>\n",
       "    </tr>\n",
       "    <tr>\n",
       "      <th>313</th>\n",
       "      <td>226157857</td>\n",
       "      <td>탭S6라이트 그레이 64기가 와이파이 (LGU+ TV프리3)</td>\n",
       "      <td>310000</td>\n",
       "      <td>2023-06-09</td>\n",
       "      <td>경상북도 경주시 황오동</td>\n",
       "      <td>0</td>\n",
       "      <td>1</td>\n",
       "      <td>1</td>\n",
       "      <td>https://m.bunjang.co.kr/products/226157857?q=%...</td>\n",
       "    </tr>\n",
       "    <tr>\n",
       "      <th>314</th>\n",
       "      <td>223192438</td>\n",
       "      <td>탭S6라이트 그레이 64기가 와이파이 (LGU+ TV프리3)</td>\n",
       "      <td>355000</td>\n",
       "      <td>2023-05-09</td>\n",
       "      <td>경상북도 경주시 황오동</td>\n",
       "      <td>0</td>\n",
       "      <td>1</td>\n",
       "      <td>1</td>\n",
       "      <td>https://m.bunjang.co.kr/products/223192438?q=%...</td>\n",
       "    </tr>\n",
       "    <tr>\n",
       "      <th>315</th>\n",
       "      <td>219594988</td>\n",
       "      <td>겔탭s6lite</td>\n",
       "      <td>380000</td>\n",
       "      <td>2023-04-09</td>\n",
       "      <td>대구광역시 달서구 본리동</td>\n",
       "      <td>0</td>\n",
       "      <td>0</td>\n",
       "      <td>1</td>\n",
       "      <td>https://m.bunjang.co.kr/products/219594988?q=%...</td>\n",
       "    </tr>\n",
       "    <tr>\n",
       "      <th>316</th>\n",
       "      <td>200923784</td>\n",
       "      <td>갤럭시탭 s 6 lite wifi</td>\n",
       "      <td>320000</td>\n",
       "      <td>2022-10-09</td>\n",
       "      <td>전국</td>\n",
       "      <td>0</td>\n",
       "      <td>0</td>\n",
       "      <td>1</td>\n",
       "      <td>https://m.bunjang.co.kr/products/200923784?q=%...</td>\n",
       "    </tr>\n",
       "  </tbody>\n",
       "</table>\n",
       "<p>294 rows × 9 columns</p>\n",
       "</div>"
      ],
      "text/plain": [
       "           pid                               title   price upload_time  \\\n",
       "0    229402912              갤럭시탭 s6 lite 64gb wifi  190000  2023-07-09   \n",
       "1    229135328                  갤럭시탭s6lite 64 wife  250000  2023-07-09   \n",
       "2    229428258                         갤럭시탭 s6 라이트  500000  2023-07-09   \n",
       "3    229329594  갤럭시탭S6 lite SM-P610 wifi 64G 판매해요.  230000  2023-07-09   \n",
       "4    227587188             갤럭시탭s6 lite 64g 셀룰러 팝니다  230000  2023-07-09   \n",
       "..         ...                                 ...     ...         ...   \n",
       "312  226465498   탭S6라이트 그레이 64기가 와이파이 (LGU+ TV프리3)  310000  2023-06-09   \n",
       "313  226157857   탭S6라이트 그레이 64기가 와이파이 (LGU+ TV프리3)  310000  2023-06-09   \n",
       "314  223192438   탭S6라이트 그레이 64기가 와이파이 (LGU+ TV프리3)  355000  2023-05-09   \n",
       "315  219594988                            겔탭s6lite  380000  2023-04-09   \n",
       "316  200923784                  갤럭시탭 s 6 lite wifi  320000  2022-10-09   \n",
       "\n",
       "               place inspection delivery_fee pay  \\\n",
       "0                 전국          0            1   1   \n",
       "1    경기도 안산시 상록구 반월동          0            1   1   \n",
       "2       경기도 남양주시 오남읍          0            1   1   \n",
       "3                 전국          0            0   1   \n",
       "4                 전국          0            1   1   \n",
       "..               ...        ...          ...  ..   \n",
       "312     경상북도 경주시 황오동          0            1   1   \n",
       "313     경상북도 경주시 황오동          0            1   1   \n",
       "314     경상북도 경주시 황오동          0            1   1   \n",
       "315    대구광역시 달서구 본리동          0            0   1   \n",
       "316               전국          0            0   1   \n",
       "\n",
       "                                                  href  \n",
       "0    https://m.bunjang.co.kr/products/229402912?q=%...  \n",
       "1    https://m.bunjang.co.kr/products/229135328?q=%...  \n",
       "2    https://m.bunjang.co.kr/products/229428258?q=%...  \n",
       "3    https://m.bunjang.co.kr/products/229329594?q=%...  \n",
       "4    https://m.bunjang.co.kr/products/227587188?q=%...  \n",
       "..                                                 ...  \n",
       "312  https://m.bunjang.co.kr/products/226465498?q=%...  \n",
       "313  https://m.bunjang.co.kr/products/226157857?q=%...  \n",
       "314  https://m.bunjang.co.kr/products/223192438?q=%...  \n",
       "315  https://m.bunjang.co.kr/products/219594988?q=%...  \n",
       "316  https://m.bunjang.co.kr/products/200923784?q=%...  \n",
       "\n",
       "[294 rows x 9 columns]"
      ]
     },
     "execution_count": 178,
     "metadata": {},
     "output_type": "execute_result"
    }
   ],
   "source": [
    "df"
   ]
  },
  {
   "cell_type": "markdown",
   "metadata": {},
   "source": [
    "## 2.6.4 상품 속성 Column 추가 생성"
   ]
  },
  {
   "cell_type": "markdown",
   "metadata": {},
   "source": [
    "#### volume column 생성 및 값 저장"
   ]
  },
  {
   "cell_type": "code",
   "execution_count": 179,
   "metadata": {},
   "outputs": [],
   "source": [
    "df['volume'] = ''\n",
    "\n",
    "for index, row in df.iterrows():\n",
    "    title = row['title'].replace(' ','').lower()\n",
    "    if '64' in title:\n",
    "        df.loc[index, 'volume'] = '64GB'\n",
    "    elif '128' in title:\n",
    "        df.loc[index, 'volume'] = '128GB'\n",
    "    elif '256' in title:\n",
    "        df.loc[index, 'volume'] = '256GB'\n",
    "    else:\n",
    "        df.loc[index, 'volume'] = '-'"
   ]
  },
  {
   "cell_type": "markdown",
   "metadata": {},
   "source": [
    "#### version column 생성 및 값 저장"
   ]
  },
  {
   "cell_type": "code",
   "execution_count": 180,
   "metadata": {},
   "outputs": [],
   "source": [
    "df['version'] = ''\n",
    "    \n",
    "flag_dict = {'5g':0, 'wifi': 0, 'lte': 0}\n",
    "for index, row in df.iterrows():\n",
    "    title = row['title'].replace(' ','').lower()\n",
    "\n",
    "    # '5g', 'wifi', 'lte' 기종인지 확인\n",
    "    if '5g' in title or '866' in title:\n",
    "        flag_dict['5g'] = 1\n",
    "    if ('wifi' in title or '와이파이' in title or '610' in title or '860' in title):\n",
    "        flag_dict['wifi'] = 1\n",
    "    if ('lte' in title or '룰러' in title or '615' in title or '865' in title):\n",
    "        flag_dict['lte'] = 1\n",
    "    \n",
    "    # 확인한 데이터를 토대로 '5G', 'WIFI', 'LTE' 저장\n",
    "    if flag_dict['5g'] == 1:\n",
    "        df.loc[index, 'version'] = '5G'\n",
    "        df.loc[index, 'volume'] = '128GB'  # 5G 기종의 용량은 모두 128G\n",
    "    elif flag_dict['wifi'] == 1 and flag_dict['lte'] == 1:\n",
    "        df.loc[index, 'version'] = 'WIFI/LTE'\n",
    "    elif flag_dict['wifi'] == 1:\n",
    "        df.loc[index, 'version'] = 'WIFI'\n",
    "    elif flag_dict['lte'] == 1:\n",
    "        df.loc[index, 'version'] = 'lte'\n",
    "    else:\n",
    "        df.loc[index, 'version'] = '-'\n",
    "    \n",
    "    # flag 값 초기화\n",
    "    flag_dict['5g'] = 0\n",
    "    flag_dict['wifi'] = 0\n",
    "    flag_dict['lte'] = 0"
   ]
  },
  {
   "cell_type": "markdown",
   "metadata": {},
   "source": [
    "#### type colmun 생성 및 값 저장"
   ]
  },
  {
   "cell_type": "code",
   "execution_count": 181,
   "metadata": {},
   "outputs": [],
   "source": [
    "df['type'] = ''\n",
    "\n",
    "for index, row in df.iterrows():\n",
    "    if row['volume'] == '64GB':\n",
    "        df.loc[index, 'type'] = 'S6 Lite'\n",
    "    elif row['volume'] == '256GB':\n",
    "        df.loc[index, 'type'] = 'S6'\n",
    "    elif '61' in row['title']:\n",
    "        df.loc[index, 'type'] = 'S6 Lite'\n",
    "    elif '86' in row['title']:\n",
    "        df.loc[index, 'type'] = 'S6'\n",
    "    else:  \n",
    "        title = row['title'].replace(' ','').lower()\n",
    "        if len(re.findall(r'(lite|라이트)(아님|아닙|X)', title)) > 0:\n",
    "            df.loc[index, 'type'] = 'S6'\n",
    "        elif 'lite' in title or '라이트' in title:\n",
    "            df.loc[index, 'type'] = 'S6 Lite'\n",
    "        else:\n",
    "            df.loc[index, 'type'] = 'S6'"
   ]
  },
  {
   "cell_type": "code",
   "execution_count": 182,
   "metadata": {},
   "outputs": [
    {
     "data": {
      "text/html": [
       "<div>\n",
       "<style scoped>\n",
       "    .dataframe tbody tr th:only-of-type {\n",
       "        vertical-align: middle;\n",
       "    }\n",
       "\n",
       "    .dataframe tbody tr th {\n",
       "        vertical-align: top;\n",
       "    }\n",
       "\n",
       "    .dataframe thead th {\n",
       "        text-align: right;\n",
       "    }\n",
       "</style>\n",
       "<table border=\"1\" class=\"dataframe\">\n",
       "  <thead>\n",
       "    <tr style=\"text-align: right;\">\n",
       "      <th></th>\n",
       "      <th>pid</th>\n",
       "      <th>title</th>\n",
       "      <th>price</th>\n",
       "      <th>upload_time</th>\n",
       "      <th>place</th>\n",
       "      <th>inspection</th>\n",
       "      <th>delivery_fee</th>\n",
       "      <th>pay</th>\n",
       "      <th>href</th>\n",
       "      <th>volume</th>\n",
       "      <th>version</th>\n",
       "      <th>type</th>\n",
       "    </tr>\n",
       "  </thead>\n",
       "  <tbody>\n",
       "    <tr>\n",
       "      <th>0</th>\n",
       "      <td>229402912</td>\n",
       "      <td>갤럭시탭 s6 lite 64gb wifi</td>\n",
       "      <td>190000</td>\n",
       "      <td>2023-07-09</td>\n",
       "      <td>전국</td>\n",
       "      <td>0</td>\n",
       "      <td>1</td>\n",
       "      <td>1</td>\n",
       "      <td>https://m.bunjang.co.kr/products/229402912?q=%...</td>\n",
       "      <td>64GB</td>\n",
       "      <td>WIFI</td>\n",
       "      <td>S6 Lite</td>\n",
       "    </tr>\n",
       "    <tr>\n",
       "      <th>1</th>\n",
       "      <td>229135328</td>\n",
       "      <td>갤럭시탭s6lite 64 wife</td>\n",
       "      <td>250000</td>\n",
       "      <td>2023-07-09</td>\n",
       "      <td>경기도 안산시 상록구 반월동</td>\n",
       "      <td>0</td>\n",
       "      <td>1</td>\n",
       "      <td>1</td>\n",
       "      <td>https://m.bunjang.co.kr/products/229135328?q=%...</td>\n",
       "      <td>64GB</td>\n",
       "      <td>-</td>\n",
       "      <td>S6 Lite</td>\n",
       "    </tr>\n",
       "    <tr>\n",
       "      <th>2</th>\n",
       "      <td>229428258</td>\n",
       "      <td>갤럭시탭 s6 라이트</td>\n",
       "      <td>500000</td>\n",
       "      <td>2023-07-09</td>\n",
       "      <td>경기도 남양주시 오남읍</td>\n",
       "      <td>0</td>\n",
       "      <td>1</td>\n",
       "      <td>1</td>\n",
       "      <td>https://m.bunjang.co.kr/products/229428258?q=%...</td>\n",
       "      <td>-</td>\n",
       "      <td>-</td>\n",
       "      <td>S6 Lite</td>\n",
       "    </tr>\n",
       "    <tr>\n",
       "      <th>3</th>\n",
       "      <td>229329594</td>\n",
       "      <td>갤럭시탭S6 lite SM-P610 wifi 64G 판매해요.</td>\n",
       "      <td>230000</td>\n",
       "      <td>2023-07-09</td>\n",
       "      <td>전국</td>\n",
       "      <td>0</td>\n",
       "      <td>0</td>\n",
       "      <td>1</td>\n",
       "      <td>https://m.bunjang.co.kr/products/229329594?q=%...</td>\n",
       "      <td>64GB</td>\n",
       "      <td>WIFI</td>\n",
       "      <td>S6 Lite</td>\n",
       "    </tr>\n",
       "    <tr>\n",
       "      <th>4</th>\n",
       "      <td>227587188</td>\n",
       "      <td>갤럭시탭s6 lite 64g 셀룰러 팝니다</td>\n",
       "      <td>230000</td>\n",
       "      <td>2023-07-09</td>\n",
       "      <td>전국</td>\n",
       "      <td>0</td>\n",
       "      <td>1</td>\n",
       "      <td>1</td>\n",
       "      <td>https://m.bunjang.co.kr/products/227587188?q=%...</td>\n",
       "      <td>64GB</td>\n",
       "      <td>lte</td>\n",
       "      <td>S6 Lite</td>\n",
       "    </tr>\n",
       "  </tbody>\n",
       "</table>\n",
       "</div>"
      ],
      "text/plain": [
       "         pid                               title   price upload_time  \\\n",
       "0  229402912              갤럭시탭 s6 lite 64gb wifi  190000  2023-07-09   \n",
       "1  229135328                  갤럭시탭s6lite 64 wife  250000  2023-07-09   \n",
       "2  229428258                         갤럭시탭 s6 라이트  500000  2023-07-09   \n",
       "3  229329594  갤럭시탭S6 lite SM-P610 wifi 64G 판매해요.  230000  2023-07-09   \n",
       "4  227587188             갤럭시탭s6 lite 64g 셀룰러 팝니다  230000  2023-07-09   \n",
       "\n",
       "             place inspection delivery_fee pay  \\\n",
       "0               전국          0            1   1   \n",
       "1  경기도 안산시 상록구 반월동          0            1   1   \n",
       "2     경기도 남양주시 오남읍          0            1   1   \n",
       "3               전국          0            0   1   \n",
       "4               전국          0            1   1   \n",
       "\n",
       "                                                href volume version     type  \n",
       "0  https://m.bunjang.co.kr/products/229402912?q=%...   64GB    WIFI  S6 Lite  \n",
       "1  https://m.bunjang.co.kr/products/229135328?q=%...   64GB       -  S6 Lite  \n",
       "2  https://m.bunjang.co.kr/products/229428258?q=%...      -       -  S6 Lite  \n",
       "3  https://m.bunjang.co.kr/products/229329594?q=%...   64GB    WIFI  S6 Lite  \n",
       "4  https://m.bunjang.co.kr/products/227587188?q=%...   64GB     lte  S6 Lite  "
      ]
     },
     "execution_count": 182,
     "metadata": {},
     "output_type": "execute_result"
    }
   ],
   "source": [
    "df.head()"
   ]
  },
  {
   "cell_type": "markdown",
   "metadata": {},
   "source": [
    "***"
   ]
  },
  {
   "cell_type": "markdown",
   "metadata": {},
   "source": [
    "# 2.7 MySQL DB에 데이터 적재"
   ]
  },
  {
   "cell_type": "markdown",
   "metadata": {},
   "source": [
    "## 2.7.1 DB 생성"
   ]
  },
  {
   "cell_type": "code",
   "execution_count": 184,
   "metadata": {},
   "outputs": [],
   "source": [
    "import pymysql\n",
    "\n",
    "# password 입력\n",
    "password = '0000'"
   ]
  },
  {
   "cell_type": "code",
   "execution_count": 185,
   "metadata": {},
   "outputs": [],
   "source": [
    "# MySQL Connection\n",
    "conn = pymysql.connect(host = '127.0.0.1',\n",
    "                       port = 3306,\n",
    "                       user = 'root',\n",
    "                       password = password,\n",
    "                       charset='utf8')"
   ]
  },
  {
   "cell_type": "code",
   "execution_count": 186,
   "metadata": {},
   "outputs": [],
   "source": [
    "# SQL문 실행 - DB 생성\n",
    "with conn:\n",
    "    with conn.cursor() as cur:\n",
    "        cur.execute('CREATE DATABASE lightning_Market')\n",
    "        conn.commit()"
   ]
  },
  {
   "cell_type": "markdown",
   "metadata": {},
   "source": [
    "## 2.7.2 테이블 생성"
   ]
  },
  {
   "cell_type": "code",
   "execution_count": 187,
   "metadata": {},
   "outputs": [],
   "source": [
    "# MySQL DB Connection\n",
    "conn = pymysql.connect(host = '127.0.0.1',\n",
    "                       port = 3306,\n",
    "                       user = 'root',\n",
    "                       password = password,\n",
    "                       charset='utf8',\n",
    "                       database='lightning_Market')"
   ]
  },
  {
   "cell_type": "code",
   "execution_count": 188,
   "metadata": {},
   "outputs": [],
   "source": [
    "# 테이블 생성 SQL문\n",
    "sql = '''create table market_product (\n",
    "            pid varchar(10) primary key,\n",
    "            title varchar(50),\n",
    "            price int,\n",
    "            upload_time varchar(10),    \n",
    "            place varchar(30),\n",
    "            inspection int,\n",
    "            delivery_fee int,\n",
    "            pay int,\n",
    "            href varchar(150),\n",
    "            volume varchar(10),\n",
    "            type varchar(10),\n",
    "            version varchar(10));'''"
   ]
  },
  {
   "cell_type": "code",
   "execution_count": 189,
   "metadata": {},
   "outputs": [],
   "source": [
    "# SQL문 실행 - 테이블 생성\n",
    "with conn.cursor() as cur:\n",
    "    cur.execute(sql)\n",
    "    conn.commit()"
   ]
  },
  {
   "cell_type": "markdown",
   "metadata": {},
   "source": [
    "## 2.7.3 데이터 저장"
   ]
  },
  {
   "cell_type": "code",
   "execution_count": 190,
   "metadata": {},
   "outputs": [],
   "source": [
    "# SQL문 실행 - 데이터 삽입\n",
    "with conn.cursor() as cursor:\n",
    "    for _, row in df.iterrows():\n",
    "        sql = '''\n",
    "        INSERT INTO market_product (pid, title, price, upload_time, place, inspection, delivery_fee, pay, href, volume, type, version)\n",
    "        VALUES (%s, %s, %s, %s, %s, %s, %s, %s, %s, %s, %s, %s)\n",
    "        '''\n",
    "        \n",
    "        values = (\n",
    "            row['pid'], row['title'], row['price'], row['upload_time'], row['place'], \n",
    "            row['inspection'], row['delivery_fee'], row['pay'], row['href'], row['volume'], row['type'], row['version']\n",
    "        )\n",
    "        \n",
    "        cursor.execute(sql, values)\n",
    "        \n",
    "    conn.commit()"
   ]
  },
  {
   "cell_type": "code",
   "execution_count": 191,
   "metadata": {},
   "outputs": [],
   "source": [
    "# MySQL DB Connection 종료\n",
    "conn.close()"
   ]
  },
  {
   "cell_type": "markdown",
   "metadata": {},
   "source": [
    "***"
   ]
  },
  {
   "cell_type": "markdown",
   "metadata": {},
   "source": [
    "# 2.8 DB 활용 - 필터링"
   ]
  },
  {
   "cell_type": "code",
   "execution_count": 206,
   "metadata": {},
   "outputs": [],
   "source": [
    "# MySQL DB Connection\n",
    "conn = pymysql.connect(host = '127.0.0.1',\n",
    "                       port = 3306,\n",
    "                       user = 'root',\n",
    "                       password = password,\n",
    "                       charset='utf8',\n",
    "                       database='lightning_Market')"
   ]
  },
  {
   "cell_type": "markdown",
   "metadata": {},
   "source": [
    "## 2.8.1 필터링1 - 용량, 지원버전, 가격, 등록 날짜 조건"
   ]
  },
  {
   "cell_type": "code",
   "execution_count": 207,
   "metadata": {},
   "outputs": [],
   "source": [
    "# 필터링1 조건에 만족하는 데이터를 조회하는 SQL문\n",
    "query = '''SELECT *\n",
    "            FROM market_product \n",
    "            WHERE volume = '128GB'\n",
    "                AND version != 'LTE'\n",
    "                AND price < 350000\n",
    "                AND upload_time > '2023-06-01'\n",
    "            ORDER BY upload_time DESC;'''"
   ]
  },
  {
   "cell_type": "code",
   "execution_count": 208,
   "metadata": {},
   "outputs": [],
   "source": [
    "# SQL문 실행 - 데이터 조회\n",
    "with conn.cursor() as cursor:\n",
    "    cursor.execute(query)\n",
    "    result = cursor.fetchall()"
   ]
  },
  {
   "cell_type": "code",
   "execution_count": 209,
   "metadata": {},
   "outputs": [
    {
     "name": "stdout",
     "output_type": "stream",
     "text": [
      "조건에 일치하는 상품: 총 10개\n"
     ]
    },
    {
     "data": {
      "text/html": [
       "<div>\n",
       "<style scoped>\n",
       "    .dataframe tbody tr th:only-of-type {\n",
       "        vertical-align: middle;\n",
       "    }\n",
       "\n",
       "    .dataframe tbody tr th {\n",
       "        vertical-align: top;\n",
       "    }\n",
       "\n",
       "    .dataframe thead th {\n",
       "        text-align: right;\n",
       "    }\n",
       "</style>\n",
       "<table border=\"1\" class=\"dataframe\">\n",
       "  <thead>\n",
       "    <tr style=\"text-align: right;\">\n",
       "      <th></th>\n",
       "      <th>pid</th>\n",
       "      <th>title</th>\n",
       "      <th>price</th>\n",
       "      <th>upload_time</th>\n",
       "      <th>place</th>\n",
       "      <th>inspection</th>\n",
       "      <th>delivery_fee</th>\n",
       "      <th>pay</th>\n",
       "      <th>href</th>\n",
       "      <th>volume</th>\n",
       "      <th>type</th>\n",
       "      <th>version</th>\n",
       "    </tr>\n",
       "  </thead>\n",
       "  <tbody>\n",
       "    <tr>\n",
       "      <th>0</th>\n",
       "      <td>226496891</td>\n",
       "      <td>갤럭시탭S6 lite wifi 128GB (sm-p610)</td>\n",
       "      <td>300000</td>\n",
       "      <td>2023-07-09</td>\n",
       "      <td>전국</td>\n",
       "      <td>0</td>\n",
       "      <td>1</td>\n",
       "      <td>0</td>\n",
       "      <td>https://m.bunjang.co.kr/products/226496891?q=%...</td>\n",
       "      <td>128GB</td>\n",
       "      <td>S6 Lite</td>\n",
       "      <td>WIFI</td>\n",
       "    </tr>\n",
       "    <tr>\n",
       "      <th>1</th>\n",
       "      <td>229414483</td>\n",
       "      <td>갤럭시탭s6 128 wifi팝니다</td>\n",
       "      <td>320000</td>\n",
       "      <td>2023-07-09</td>\n",
       "      <td>경기도 수원시 팔달구 우만2동</td>\n",
       "      <td>0</td>\n",
       "      <td>0</td>\n",
       "      <td>1</td>\n",
       "      <td>https://m.bunjang.co.kr/products/229414483?q=%...</td>\n",
       "      <td>128GB</td>\n",
       "      <td>S6</td>\n",
       "      <td>WIFI</td>\n",
       "    </tr>\n",
       "    <tr>\n",
       "      <th>2</th>\n",
       "      <td>216456152</td>\n",
       "      <td>삼성 갤럭시탭 S6 LITE 128GB WIFI모델 SM-P610</td>\n",
       "      <td>340000</td>\n",
       "      <td>2023-07-07</td>\n",
       "      <td>경기도 김포시 고촌읍</td>\n",
       "      <td>0</td>\n",
       "      <td>0</td>\n",
       "      <td>1</td>\n",
       "      <td>https://m.bunjang.co.kr/products/216456152?q=%...</td>\n",
       "      <td>128GB</td>\n",
       "      <td>S6 Lite</td>\n",
       "      <td>WIFI</td>\n",
       "    </tr>\n",
       "    <tr>\n",
       "      <th>3</th>\n",
       "      <td>225600476</td>\n",
       "      <td>갤럭시탭 S6 Lite 128g</td>\n",
       "      <td>290000</td>\n",
       "      <td>2023-07-07</td>\n",
       "      <td>전국</td>\n",
       "      <td>0</td>\n",
       "      <td>0</td>\n",
       "      <td>1</td>\n",
       "      <td>https://m.bunjang.co.kr/products/225600476?q=%...</td>\n",
       "      <td>128GB</td>\n",
       "      <td>S6 Lite</td>\n",
       "      <td>-</td>\n",
       "    </tr>\n",
       "    <tr>\n",
       "      <th>4</th>\n",
       "      <td>227381535</td>\n",
       "      <td>갤럭시탭 S6 LITE S6라이트 128G 보내요</td>\n",
       "      <td>300000</td>\n",
       "      <td>2023-07-05</td>\n",
       "      <td>전국</td>\n",
       "      <td>0</td>\n",
       "      <td>1</td>\n",
       "      <td>1</td>\n",
       "      <td>https://m.bunjang.co.kr/products/227381535?q=%...</td>\n",
       "      <td>128GB</td>\n",
       "      <td>S6 Lite</td>\n",
       "      <td>-</td>\n",
       "    </tr>\n",
       "    <tr>\n",
       "      <th>5</th>\n",
       "      <td>228995067</td>\n",
       "      <td>갤럭시탭 S6 LITE 128기가 판매합니다</td>\n",
       "      <td>345000</td>\n",
       "      <td>2023-07-04</td>\n",
       "      <td>경기도 남양주시 진접읍</td>\n",
       "      <td>0</td>\n",
       "      <td>0</td>\n",
       "      <td>0</td>\n",
       "      <td>https://m.bunjang.co.kr/products/228995067?q=%...</td>\n",
       "      <td>128GB</td>\n",
       "      <td>S6 Lite</td>\n",
       "      <td>-</td>\n",
       "    </tr>\n",
       "    <tr>\n",
       "      <th>6</th>\n",
       "      <td>227222959</td>\n",
       "      <td>갤럭시탭s6 lite 128gb wifi</td>\n",
       "      <td>270000</td>\n",
       "      <td>2023-07-02</td>\n",
       "      <td>전국</td>\n",
       "      <td>0</td>\n",
       "      <td>0</td>\n",
       "      <td>1</td>\n",
       "      <td>https://m.bunjang.co.kr/products/227222959?q=%...</td>\n",
       "      <td>128GB</td>\n",
       "      <td>S6 Lite</td>\n",
       "      <td>WIFI</td>\n",
       "    </tr>\n",
       "    <tr>\n",
       "      <th>7</th>\n",
       "      <td>227916112</td>\n",
       "      <td>삼성 갤럭시탭 S6라이트 10.4 128G 그레이 S펜 태블릿 P610</td>\n",
       "      <td>325300</td>\n",
       "      <td>2023-06-25</td>\n",
       "      <td>서울특별시 강동구 길동</td>\n",
       "      <td>0</td>\n",
       "      <td>0</td>\n",
       "      <td>1</td>\n",
       "      <td>https://m.bunjang.co.kr/products/227916112?q=%...</td>\n",
       "      <td>128GB</td>\n",
       "      <td>S6 Lite</td>\n",
       "      <td>WIFI</td>\n",
       "    </tr>\n",
       "    <tr>\n",
       "      <th>8</th>\n",
       "      <td>225108202</td>\n",
       "      <td>갤럭시탭 s6lite 급처 128GB</td>\n",
       "      <td>330000</td>\n",
       "      <td>2023-06-09</td>\n",
       "      <td>전국</td>\n",
       "      <td>0</td>\n",
       "      <td>0</td>\n",
       "      <td>1</td>\n",
       "      <td>https://m.bunjang.co.kr/products/225108202?q=%...</td>\n",
       "      <td>128GB</td>\n",
       "      <td>S6 Lite</td>\n",
       "      <td>-</td>\n",
       "    </tr>\n",
       "    <tr>\n",
       "      <th>9</th>\n",
       "      <td>226149966</td>\n",
       "      <td>갤럭시탭 s6lite 급처 128GB</td>\n",
       "      <td>330000</td>\n",
       "      <td>2023-06-09</td>\n",
       "      <td>전국</td>\n",
       "      <td>0</td>\n",
       "      <td>0</td>\n",
       "      <td>1</td>\n",
       "      <td>https://m.bunjang.co.kr/products/226149966?q=%...</td>\n",
       "      <td>128GB</td>\n",
       "      <td>S6 Lite</td>\n",
       "      <td>-</td>\n",
       "    </tr>\n",
       "  </tbody>\n",
       "</table>\n",
       "</div>"
      ],
      "text/plain": [
       "         pid                                    title   price upload_time  \\\n",
       "0  226496891         갤럭시탭S6 lite wifi 128GB (sm-p610)  300000  2023-07-09   \n",
       "1  229414483                       갤럭시탭s6 128 wifi팝니다  320000  2023-07-09   \n",
       "2  216456152     삼성 갤럭시탭 S6 LITE 128GB WIFI모델 SM-P610  340000  2023-07-07   \n",
       "3  225600476                        갤럭시탭 S6 Lite 128g  290000  2023-07-07   \n",
       "4  227381535              갤럭시탭 S6 LITE S6라이트 128G 보내요  300000  2023-07-05   \n",
       "5  228995067                 갤럭시탭 S6 LITE 128기가 판매합니다  345000  2023-07-04   \n",
       "6  227222959                   갤럭시탭s6 lite 128gb wifi  270000  2023-07-02   \n",
       "7  227916112  삼성 갤럭시탭 S6라이트 10.4 128G 그레이 S펜 태블릿 P610  325300  2023-06-25   \n",
       "8  225108202                     갤럭시탭 s6lite 급처 128GB  330000  2023-06-09   \n",
       "9  226149966                     갤럭시탭 s6lite 급처 128GB  330000  2023-06-09   \n",
       "\n",
       "              place  inspection  delivery_fee  pay  \\\n",
       "0                전국           0             1    0   \n",
       "1  경기도 수원시 팔달구 우만2동           0             0    1   \n",
       "2       경기도 김포시 고촌읍           0             0    1   \n",
       "3                전국           0             0    1   \n",
       "4                전국           0             1    1   \n",
       "5      경기도 남양주시 진접읍           0             0    0   \n",
       "6                전국           0             0    1   \n",
       "7      서울특별시 강동구 길동           0             0    1   \n",
       "8                전국           0             0    1   \n",
       "9                전국           0             0    1   \n",
       "\n",
       "                                                href volume     type version  \n",
       "0  https://m.bunjang.co.kr/products/226496891?q=%...  128GB  S6 Lite    WIFI  \n",
       "1  https://m.bunjang.co.kr/products/229414483?q=%...  128GB       S6    WIFI  \n",
       "2  https://m.bunjang.co.kr/products/216456152?q=%...  128GB  S6 Lite    WIFI  \n",
       "3  https://m.bunjang.co.kr/products/225600476?q=%...  128GB  S6 Lite       -  \n",
       "4  https://m.bunjang.co.kr/products/227381535?q=%...  128GB  S6 Lite       -  \n",
       "5  https://m.bunjang.co.kr/products/228995067?q=%...  128GB  S6 Lite       -  \n",
       "6  https://m.bunjang.co.kr/products/227222959?q=%...  128GB  S6 Lite    WIFI  \n",
       "7  https://m.bunjang.co.kr/products/227916112?q=%...  128GB  S6 Lite    WIFI  \n",
       "8  https://m.bunjang.co.kr/products/225108202?q=%...  128GB  S6 Lite       -  \n",
       "9  https://m.bunjang.co.kr/products/226149966?q=%...  128GB  S6 Lite       -  "
      ]
     },
     "execution_count": 209,
     "metadata": {},
     "output_type": "execute_result"
    }
   ],
   "source": [
    "# 결과 출력\n",
    "print(f'조건에 일치하는 상품: 총 {len(result)}개')\n",
    "\n",
    "result_df = pd.DataFrame(result, columns=['pid', 'title', 'price', 'upload_time', 'place', 'inspection', 'delivery_fee', 'pay', 'href', 'volume', 'type', 'version'])\n",
    "result_df"
   ]
  },
  {
   "cell_type": "code",
   "execution_count": 210,
   "metadata": {},
   "outputs": [
    {
     "data": {
      "text/plain": [
       "0    https://m.bunjang.co.kr/products/226496891?q=%...\n",
       "Name: href, dtype: object"
      ]
     },
     "execution_count": 210,
     "metadata": {},
     "output_type": "execute_result"
    }
   ],
   "source": [
    "result_df[result_df['pid'] == '226496891']['href']"
   ]
  },
  {
   "cell_type": "markdown",
   "metadata": {},
   "source": [
    "## 2.8.2 필터링2 - 직거래 가능 상품"
   ]
  },
  {
   "cell_type": "code",
   "execution_count": 211,
   "metadata": {},
   "outputs": [],
   "source": [
    "# 필터링2 조건에 만족하는 데이터를 조회하는 SQL문\n",
    "query = '''SELECT *\n",
    "            FROM market_product\n",
    "            WHERE volume = '128GB'\n",
    "                AND version != 'LTE'\n",
    "                AND price < 350000\n",
    "                AND upload_time > '2023-06-01'\n",
    "                AND place LIKE '서울%'\n",
    "            ORDER BY upload_time DESC;'''"
   ]
  },
  {
   "cell_type": "code",
   "execution_count": 212,
   "metadata": {},
   "outputs": [],
   "source": [
    "# SQL문 실행 - 데이터 조회\n",
    "with conn.cursor() as cursor:\n",
    "    cursor.execute(query)\n",
    "    result = cursor.fetchall()"
   ]
  },
  {
   "cell_type": "code",
   "execution_count": 213,
   "metadata": {},
   "outputs": [
    {
     "name": "stdout",
     "output_type": "stream",
     "text": [
      "조건에 일치하는 상품: 총 1개\n"
     ]
    },
    {
     "data": {
      "text/html": [
       "<div>\n",
       "<style scoped>\n",
       "    .dataframe tbody tr th:only-of-type {\n",
       "        vertical-align: middle;\n",
       "    }\n",
       "\n",
       "    .dataframe tbody tr th {\n",
       "        vertical-align: top;\n",
       "    }\n",
       "\n",
       "    .dataframe thead th {\n",
       "        text-align: right;\n",
       "    }\n",
       "</style>\n",
       "<table border=\"1\" class=\"dataframe\">\n",
       "  <thead>\n",
       "    <tr style=\"text-align: right;\">\n",
       "      <th></th>\n",
       "      <th>pid</th>\n",
       "      <th>title</th>\n",
       "      <th>price</th>\n",
       "      <th>upload_time</th>\n",
       "      <th>place</th>\n",
       "      <th>inspection</th>\n",
       "      <th>delivery_fee</th>\n",
       "      <th>pay</th>\n",
       "      <th>href</th>\n",
       "      <th>volume</th>\n",
       "      <th>type</th>\n",
       "      <th>version</th>\n",
       "    </tr>\n",
       "  </thead>\n",
       "  <tbody>\n",
       "    <tr>\n",
       "      <th>0</th>\n",
       "      <td>227916112</td>\n",
       "      <td>삼성 갤럭시탭 S6라이트 10.4 128G 그레이 S펜 태블릿 P610</td>\n",
       "      <td>325300</td>\n",
       "      <td>2023-06-25</td>\n",
       "      <td>서울특별시 강동구 길동</td>\n",
       "      <td>0</td>\n",
       "      <td>0</td>\n",
       "      <td>1</td>\n",
       "      <td>https://m.bunjang.co.kr/products/227916112?q=%...</td>\n",
       "      <td>128GB</td>\n",
       "      <td>S6 Lite</td>\n",
       "      <td>WIFI</td>\n",
       "    </tr>\n",
       "  </tbody>\n",
       "</table>\n",
       "</div>"
      ],
      "text/plain": [
       "         pid                                    title   price upload_time  \\\n",
       "0  227916112  삼성 갤럭시탭 S6라이트 10.4 128G 그레이 S펜 태블릿 P610  325300  2023-06-25   \n",
       "\n",
       "          place  inspection  delivery_fee  pay  \\\n",
       "0  서울특별시 강동구 길동           0             0    1   \n",
       "\n",
       "                                                href volume     type version  \n",
       "0  https://m.bunjang.co.kr/products/227916112?q=%...  128GB  S6 Lite    WIFI  "
      ]
     },
     "execution_count": 213,
     "metadata": {},
     "output_type": "execute_result"
    }
   ],
   "source": [
    "# 결과 출력\n",
    "print(f'조건에 일치하는 상품: 총 {len(result)}개')\n",
    "\n",
    "result_df = pd.DataFrame(result, columns=['pid', 'title', 'price', 'upload_time', 'place', 'inspection', 'delivery_fee', 'pay', 'href', 'volume', 'type', 'version'])\n",
    "result_df"
   ]
  },
  {
   "cell_type": "code",
   "execution_count": 214,
   "metadata": {},
   "outputs": [
    {
     "data": {
      "text/plain": [
       "0    https://m.bunjang.co.kr/products/227916112?q=%...\n",
       "Name: href, dtype: object"
      ]
     },
     "execution_count": 214,
     "metadata": {},
     "output_type": "execute_result"
    }
   ],
   "source": [
    "result_df[result_df['pid'] == '227916112']['href']"
   ]
  },
  {
   "cell_type": "markdown",
   "metadata": {},
   "source": [
    "## 2.8.3 필터링3 - 택배 거래"
   ]
  },
  {
   "cell_type": "code",
   "execution_count": 215,
   "metadata": {},
   "outputs": [],
   "source": [
    "# 필터링3 조건에 만족하는 데이터를 조회하는 SQL문\n",
    "query = '''SELECT *\n",
    "            FROM market_product\n",
    "            WHERE volume = '128GB'\n",
    "                AND version != 'LTE'\n",
    "                AND price < 350000\n",
    "                AND upload_time > '2023-06-01'\n",
    "                AND pay = 1\n",
    "            ORDER BY upload_time DESC;'''"
   ]
  },
  {
   "cell_type": "code",
   "execution_count": 216,
   "metadata": {},
   "outputs": [],
   "source": [
    "# SQL문 실행 - 데이터 조회\n",
    "with conn.cursor() as cursor:\n",
    "    cursor.execute(query)\n",
    "    result = cursor.fetchall()"
   ]
  },
  {
   "cell_type": "code",
   "execution_count": 217,
   "metadata": {},
   "outputs": [
    {
     "name": "stdout",
     "output_type": "stream",
     "text": [
      "조건에 일치하는 상품: 총 8개\n"
     ]
    },
    {
     "data": {
      "text/html": [
       "<div>\n",
       "<style scoped>\n",
       "    .dataframe tbody tr th:only-of-type {\n",
       "        vertical-align: middle;\n",
       "    }\n",
       "\n",
       "    .dataframe tbody tr th {\n",
       "        vertical-align: top;\n",
       "    }\n",
       "\n",
       "    .dataframe thead th {\n",
       "        text-align: right;\n",
       "    }\n",
       "</style>\n",
       "<table border=\"1\" class=\"dataframe\">\n",
       "  <thead>\n",
       "    <tr style=\"text-align: right;\">\n",
       "      <th></th>\n",
       "      <th>pid</th>\n",
       "      <th>title</th>\n",
       "      <th>price</th>\n",
       "      <th>upload_time</th>\n",
       "      <th>place</th>\n",
       "      <th>inspection</th>\n",
       "      <th>delivery_fee</th>\n",
       "      <th>pay</th>\n",
       "      <th>href</th>\n",
       "      <th>volume</th>\n",
       "      <th>type</th>\n",
       "      <th>version</th>\n",
       "    </tr>\n",
       "  </thead>\n",
       "  <tbody>\n",
       "    <tr>\n",
       "      <th>0</th>\n",
       "      <td>229414483</td>\n",
       "      <td>갤럭시탭s6 128 wifi팝니다</td>\n",
       "      <td>320000</td>\n",
       "      <td>2023-07-09</td>\n",
       "      <td>경기도 수원시 팔달구 우만2동</td>\n",
       "      <td>0</td>\n",
       "      <td>0</td>\n",
       "      <td>1</td>\n",
       "      <td>https://m.bunjang.co.kr/products/229414483?q=%...</td>\n",
       "      <td>128GB</td>\n",
       "      <td>S6</td>\n",
       "      <td>WIFI</td>\n",
       "    </tr>\n",
       "    <tr>\n",
       "      <th>1</th>\n",
       "      <td>216456152</td>\n",
       "      <td>삼성 갤럭시탭 S6 LITE 128GB WIFI모델 SM-P610</td>\n",
       "      <td>340000</td>\n",
       "      <td>2023-07-07</td>\n",
       "      <td>경기도 김포시 고촌읍</td>\n",
       "      <td>0</td>\n",
       "      <td>0</td>\n",
       "      <td>1</td>\n",
       "      <td>https://m.bunjang.co.kr/products/216456152?q=%...</td>\n",
       "      <td>128GB</td>\n",
       "      <td>S6 Lite</td>\n",
       "      <td>WIFI</td>\n",
       "    </tr>\n",
       "    <tr>\n",
       "      <th>2</th>\n",
       "      <td>225600476</td>\n",
       "      <td>갤럭시탭 S6 Lite 128g</td>\n",
       "      <td>290000</td>\n",
       "      <td>2023-07-07</td>\n",
       "      <td>전국</td>\n",
       "      <td>0</td>\n",
       "      <td>0</td>\n",
       "      <td>1</td>\n",
       "      <td>https://m.bunjang.co.kr/products/225600476?q=%...</td>\n",
       "      <td>128GB</td>\n",
       "      <td>S6 Lite</td>\n",
       "      <td>-</td>\n",
       "    </tr>\n",
       "    <tr>\n",
       "      <th>3</th>\n",
       "      <td>227381535</td>\n",
       "      <td>갤럭시탭 S6 LITE S6라이트 128G 보내요</td>\n",
       "      <td>300000</td>\n",
       "      <td>2023-07-05</td>\n",
       "      <td>전국</td>\n",
       "      <td>0</td>\n",
       "      <td>1</td>\n",
       "      <td>1</td>\n",
       "      <td>https://m.bunjang.co.kr/products/227381535?q=%...</td>\n",
       "      <td>128GB</td>\n",
       "      <td>S6 Lite</td>\n",
       "      <td>-</td>\n",
       "    </tr>\n",
       "    <tr>\n",
       "      <th>4</th>\n",
       "      <td>227222959</td>\n",
       "      <td>갤럭시탭s6 lite 128gb wifi</td>\n",
       "      <td>270000</td>\n",
       "      <td>2023-07-02</td>\n",
       "      <td>전국</td>\n",
       "      <td>0</td>\n",
       "      <td>0</td>\n",
       "      <td>1</td>\n",
       "      <td>https://m.bunjang.co.kr/products/227222959?q=%...</td>\n",
       "      <td>128GB</td>\n",
       "      <td>S6 Lite</td>\n",
       "      <td>WIFI</td>\n",
       "    </tr>\n",
       "    <tr>\n",
       "      <th>5</th>\n",
       "      <td>227916112</td>\n",
       "      <td>삼성 갤럭시탭 S6라이트 10.4 128G 그레이 S펜 태블릿 P610</td>\n",
       "      <td>325300</td>\n",
       "      <td>2023-06-25</td>\n",
       "      <td>서울특별시 강동구 길동</td>\n",
       "      <td>0</td>\n",
       "      <td>0</td>\n",
       "      <td>1</td>\n",
       "      <td>https://m.bunjang.co.kr/products/227916112?q=%...</td>\n",
       "      <td>128GB</td>\n",
       "      <td>S6 Lite</td>\n",
       "      <td>WIFI</td>\n",
       "    </tr>\n",
       "    <tr>\n",
       "      <th>6</th>\n",
       "      <td>225108202</td>\n",
       "      <td>갤럭시탭 s6lite 급처 128GB</td>\n",
       "      <td>330000</td>\n",
       "      <td>2023-06-09</td>\n",
       "      <td>전국</td>\n",
       "      <td>0</td>\n",
       "      <td>0</td>\n",
       "      <td>1</td>\n",
       "      <td>https://m.bunjang.co.kr/products/225108202?q=%...</td>\n",
       "      <td>128GB</td>\n",
       "      <td>S6 Lite</td>\n",
       "      <td>-</td>\n",
       "    </tr>\n",
       "    <tr>\n",
       "      <th>7</th>\n",
       "      <td>226149966</td>\n",
       "      <td>갤럭시탭 s6lite 급처 128GB</td>\n",
       "      <td>330000</td>\n",
       "      <td>2023-06-09</td>\n",
       "      <td>전국</td>\n",
       "      <td>0</td>\n",
       "      <td>0</td>\n",
       "      <td>1</td>\n",
       "      <td>https://m.bunjang.co.kr/products/226149966?q=%...</td>\n",
       "      <td>128GB</td>\n",
       "      <td>S6 Lite</td>\n",
       "      <td>-</td>\n",
       "    </tr>\n",
       "  </tbody>\n",
       "</table>\n",
       "</div>"
      ],
      "text/plain": [
       "         pid                                    title   price upload_time  \\\n",
       "0  229414483                       갤럭시탭s6 128 wifi팝니다  320000  2023-07-09   \n",
       "1  216456152     삼성 갤럭시탭 S6 LITE 128GB WIFI모델 SM-P610  340000  2023-07-07   \n",
       "2  225600476                        갤럭시탭 S6 Lite 128g  290000  2023-07-07   \n",
       "3  227381535              갤럭시탭 S6 LITE S6라이트 128G 보내요  300000  2023-07-05   \n",
       "4  227222959                   갤럭시탭s6 lite 128gb wifi  270000  2023-07-02   \n",
       "5  227916112  삼성 갤럭시탭 S6라이트 10.4 128G 그레이 S펜 태블릿 P610  325300  2023-06-25   \n",
       "6  225108202                     갤럭시탭 s6lite 급처 128GB  330000  2023-06-09   \n",
       "7  226149966                     갤럭시탭 s6lite 급처 128GB  330000  2023-06-09   \n",
       "\n",
       "              place  inspection  delivery_fee  pay  \\\n",
       "0  경기도 수원시 팔달구 우만2동           0             0    1   \n",
       "1       경기도 김포시 고촌읍           0             0    1   \n",
       "2                전국           0             0    1   \n",
       "3                전국           0             1    1   \n",
       "4                전국           0             0    1   \n",
       "5      서울특별시 강동구 길동           0             0    1   \n",
       "6                전국           0             0    1   \n",
       "7                전국           0             0    1   \n",
       "\n",
       "                                                href volume     type version  \n",
       "0  https://m.bunjang.co.kr/products/229414483?q=%...  128GB       S6    WIFI  \n",
       "1  https://m.bunjang.co.kr/products/216456152?q=%...  128GB  S6 Lite    WIFI  \n",
       "2  https://m.bunjang.co.kr/products/225600476?q=%...  128GB  S6 Lite       -  \n",
       "3  https://m.bunjang.co.kr/products/227381535?q=%...  128GB  S6 Lite       -  \n",
       "4  https://m.bunjang.co.kr/products/227222959?q=%...  128GB  S6 Lite    WIFI  \n",
       "5  https://m.bunjang.co.kr/products/227916112?q=%...  128GB  S6 Lite    WIFI  \n",
       "6  https://m.bunjang.co.kr/products/225108202?q=%...  128GB  S6 Lite       -  \n",
       "7  https://m.bunjang.co.kr/products/226149966?q=%...  128GB  S6 Lite       -  "
      ]
     },
     "execution_count": 217,
     "metadata": {},
     "output_type": "execute_result"
    }
   ],
   "source": [
    "# 결과 출력\n",
    "print(f'조건에 일치하는 상품: 총 {len(result)}개')\n",
    "result_df = pd.DataFrame(result, columns=['pid', 'title', 'price', 'upload_time', 'place', 'inspection', 'delivery_fee', 'pay', 'href', 'volume', 'type', 'version'])\n",
    "result_df"
   ]
  },
  {
   "cell_type": "code",
   "execution_count": 218,
   "metadata": {},
   "outputs": [
    {
     "data": {
      "text/plain": [
       "0    https://m.bunjang.co.kr/products/229414483?q=%...\n",
       "Name: href, dtype: object"
      ]
     },
     "execution_count": 218,
     "metadata": {},
     "output_type": "execute_result"
    }
   ],
   "source": [
    "result_df[result_df['pid'] == '229414483']['href']"
   ]
  },
  {
   "cell_type": "code",
   "execution_count": 219,
   "metadata": {},
   "outputs": [],
   "source": [
    "# MySQL DB Connection 종료\n",
    "conn.close()"
   ]
  }
 ],
 "metadata": {
  "kernelspec": {
   "display_name": "Python 3",
   "language": "python",
   "name": "python3"
  },
  "language_info": {
   "codemirror_mode": {
    "name": "ipython",
    "version": 3
   },
   "file_extension": ".py",
   "mimetype": "text/x-python",
   "name": "python",
   "nbconvert_exporter": "python",
   "pygments_lexer": "ipython3",
   "version": "3.8.3"
  }
 },
 "nbformat": 4,
 "nbformat_minor": 5
}
